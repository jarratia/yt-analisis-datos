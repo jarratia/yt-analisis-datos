{
  "cells": [
    {
      "cell_type": "markdown",
      "metadata": {
        "colab_type": "text",
        "id": "view-in-github"
      },
      "source": [
        "<a href=\"https://colab.research.google.com/github/jarratia/yt-analisis-datos/blob/main/Numpy.ipynb\" target=\"_parent\"><img src=\"https://colab.research.google.com/assets/colab-badge.svg\" alt=\"Open In Colab\"/></a>"
      ]
    },
    {
      "cell_type": "code",
      "execution_count": 6,
      "metadata": {
        "id": "jGOmSfzsIZyu"
      },
      "outputs": [],
      "source": [
        "import numpy as np"
      ]
    },
    {
      "cell_type": "code",
      "execution_count": 7,
      "metadata": {
        "colab": {
          "base_uri": "https://localhost:8080/"
        },
        "id": "Tf73DgtLUj3y",
        "outputId": "ab52d526-de4d-45af-90fb-a9dda5c6f23a"
      },
      "outputs": [
        {
          "name": "stdout",
          "output_type": "stream",
          "text": [
            "[1 2 3 4 5 6]\n",
            "(6,)\n",
            "int32\n"
          ]
        }
      ],
      "source": [
        "#Crear arreglo de una dimensión con 5 elementos\n",
        "arr1 = np.array([1,2,3,4,5,6])\n",
        "print(arr1)\n",
        "print(arr1.shape)\n",
        "print(arr1.dtype)"
      ]
    },
    {
      "cell_type": "code",
      "execution_count": 8,
      "metadata": {
        "colab": {
          "base_uri": "https://localhost:8080/"
        },
        "id": "KpRu2VB-UqXG",
        "outputId": "7b85a62c-bc03-49ab-df15-cfcfb9b5fd57"
      },
      "outputs": [
        {
          "name": "stdout",
          "output_type": "stream",
          "text": [
            "[[1 2 3]\n",
            " [4 5 6]]\n",
            "(2, 3)\n",
            "int32\n"
          ]
        }
      ],
      "source": [
        "#Crear matrices, tomando el arr1\n",
        "#Cambiar la forma a una matriz de 2x3 (2 Filas - 3 Columnas)\n",
        "arr2 = arr1.reshape((2,3))\n",
        "print(arr2)\n",
        "print(arr2.shape)\n",
        "print(arr2.dtype)"
      ]
    },
    {
      "cell_type": "code",
      "execution_count": 9,
      "metadata": {
        "id": "9NBOIVlIWLmf"
      },
      "outputs": [
        {
          "name": "stdout",
          "output_type": "stream",
          "text": [
            "[[0.76884803 0.70832508 0.81247887 0.33988208]\n",
            " [0.78633167 0.91560733 0.30656426 0.11889337]\n",
            " [0.1413851  0.42410684 0.34315063 0.02470678]\n",
            " [0.84848389 0.18933588 0.5897928  0.77549912]]\n",
            "(4, 4)\n",
            "float64\n"
          ]
        }
      ],
      "source": [
        "#Crear un arreglo de 2D con forma de 4x4 con números aleatorios entre 0 - 1\n",
        "matrix = np.random.rand(4,4)\n",
        "print(matrix)\n",
        "print(matrix.shape)\n",
        "print(matrix.dtype)"
      ]
    },
    {
      "cell_type": "code",
      "execution_count": 10,
      "metadata": {},
      "outputs": [
        {
          "data": {
            "text/plain": [
              "array([[1, 2, 3],\n",
              "       [4, 5, 6],\n",
              "       [7, 8, 9]])"
            ]
          },
          "execution_count": 10,
          "metadata": {},
          "output_type": "execute_result"
        }
      ],
      "source": [
        "#Crear un arreglo de dos dimensiones, a partir de una lista de listas\n",
        "array = np.array([[1,2,3], [4,5,6], [7,8,9]])\n",
        "array"
      ]
    },
    {
      "cell_type": "code",
      "execution_count": 11,
      "metadata": {},
      "outputs": [
        {
          "data": {
            "text/plain": [
              "array([[0., 0., 0., 0.],\n",
              "       [0., 0., 0., 0.],\n",
              "       [0., 0., 0., 0.]])"
            ]
          },
          "execution_count": 11,
          "metadata": {},
          "output_type": "execute_result"
        }
      ],
      "source": [
        "#Crear un arreglo de ceros con una forma 3,4\n",
        "array_zeros = np.zeros((3,4))\n",
        "array_zeros"
      ]
    },
    {
      "cell_type": "code",
      "execution_count": null,
      "metadata": {},
      "outputs": [],
      "source": []
    }
  ],
  "metadata": {
    "colab": {
      "authorship_tag": "ABX9TyPle6CwZvA6s4nSWfCvPVbq",
      "include_colab_link": true,
      "provenance": []
    },
    "kernelspec": {
      "display_name": "Python 3",
      "name": "python3"
    },
    "language_info": {
      "codemirror_mode": {
        "name": "ipython",
        "version": 3
      },
      "file_extension": ".py",
      "mimetype": "text/x-python",
      "name": "python",
      "nbconvert_exporter": "python",
      "pygments_lexer": "ipython3",
      "version": "3.12.0"
    }
  },
  "nbformat": 4,
  "nbformat_minor": 0
}
